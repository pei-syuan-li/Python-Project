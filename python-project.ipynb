{
 "cells": [
  {
   "cell_type": "markdown",
   "metadata": {},
   "source": [
    "# Python Final Project\n",
    "## Simulations for Flipping Coins"
   ]
  },
  {
   "cell_type": "code",
   "execution_count": 1,
   "metadata": {
    "collapsed": true
   },
   "outputs": [],
   "source": [
    "import random\n",
    "import matplotlib.pyplot as plt\n",
    "import numpy as np\n",
    "prob =[0.3, 0.5, 0.7]\n",
    "# 設定三種顏色及圖案\n",
    "colors=['go', 'ro', 'co']\n",
    "ct = []"
   ]
  },
  {
   "cell_type": "markdown",
   "metadata": {},
   "source": [
    "* Simulate numbers of heads for 100 times with a replication of 200 times\n",
    "* Plot the results given the probabilities are 0.3, 0.5 and 0.7"
   ]
  },
  {
   "cell_type": "code",
   "execution_count": null,
   "metadata": {
    "collapsed": true
   },
   "outputs": [],
   "source": [
    "def figure(repeat, toss):\n",
    "    fig = plt.figure()\n",
    "    ax1 = fig.add_subplot(111)\n",
    "    ax1.set_xlabel('Numbr of heads', color = 'k' )\n",
    "    ax1.set_ylabel('Pobability of flipping heads', color = 'k')\n",
    "    plt.title(\"Flipping %d coins for %d times\" % (toss, repeat))\n",
    "    for j in range(3):\n",
    "        hh = []\n",
    "        # 為增加視覺效果, 增加微小隨機值\n",
    "        hh = [np.random.binomial(toss, prob[j]) +\n",
    "              random.random()/4*random.choice([-1,1])\n",
    "              for r in range(repeat)]\n",
    "        ct.append(hh)\n",
    "        plt.plot(hh, np.repeat(prob[j], repeat), colors[j],\n",
    "                 alpha = 0.7, label = ' p = %.1f' % prob[j])\n",
    "    plt.xlim(-0.2, toss+1) # 設定x軸範圍\n",
    "    plt.ylim(prob[0]-0.05, prob[2]+0.05) # 設定y軸範圍\n",
    "    plt.legend(loc = 'upper left', shadow = True)  \n",
    "    plt.show()"
   ]
  }
 ],
 "metadata": {
  "anaconda-cloud": {},
  "kernelspec": {
   "display_name": "Python [conda root]",
   "language": "python",
   "name": "conda-root-py"
  },
  "language_info": {
   "codemirror_mode": {
    "name": "ipython",
    "version": 3
   },
   "file_extension": ".py",
   "mimetype": "text/x-python",
   "name": "python",
   "nbconvert_exporter": "python",
   "pygments_lexer": "ipython3",
   "version": "3.5.3"
  }
 },
 "nbformat": 4,
 "nbformat_minor": 1
}
